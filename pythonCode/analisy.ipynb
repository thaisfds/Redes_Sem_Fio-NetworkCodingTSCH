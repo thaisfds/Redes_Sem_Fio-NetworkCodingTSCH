{
 "cells": [
  {
   "cell_type": "code",
   "execution_count": 1,
   "metadata": {},
   "outputs": [],
   "source": [
    "import pandas as pd"
   ]
  },
  {
   "cell_type": "code",
   "execution_count": 2,
   "metadata": {},
   "outputs": [
    {
     "data": {
      "text/html": [
       "<div>\n",
       "<style scoped>\n",
       "    .dataframe tbody tr th:only-of-type {\n",
       "        vertical-align: middle;\n",
       "    }\n",
       "\n",
       "    .dataframe tbody tr th {\n",
       "        vertical-align: top;\n",
       "    }\n",
       "\n",
       "    .dataframe thead th {\n",
       "        text-align: right;\n",
       "    }\n",
       "</style>\n",
       "<table border=\"1\" class=\"dataframe\">\n",
       "  <thead>\n",
       "    <tr style=\"text-align: right;\">\n",
       "      <th></th>\n",
       "      <th>Nome_Config_Arquivo</th>\n",
       "      <th>Numero_de_Nos_Config</th>\n",
       "      <th>Numero_de_Mensagens_Config</th>\n",
       "      <th>Numero_de_Caminhos_Completos</th>\n",
       "      <th>Tamanho_do_Slotframe</th>\n",
       "      <th>Numero_de_Transmissoes_Totais</th>\n",
       "      <th>Numero_de_Canais_Usados</th>\n",
       "      <th>NC_Coder_Node_ID</th>\n",
       "      <th>Mensagens_Iniciadas</th>\n",
       "      <th>Mensagens_Nao_Enviadas_Sem_Rota</th>\n",
       "      <th>Mensagens_Descartadas_Hop_Limit</th>\n",
       "      <th>Mensagens_Descartadas_Sem_Prox_Caminho</th>\n",
       "      <th>Total_Retransmissoes_Logicas</th>\n",
       "      <th>Total_Mensagens_NC_Codificadas_Enviadas</th>\n",
       "      <th>Mensagens_Descartadas_Nao_Destino_NC_Pretendido</th>\n",
       "    </tr>\n",
       "  </thead>\n",
       "  <tbody>\n",
       "    <tr>\n",
       "      <th>0</th>\n",
       "      <td>5nodes4msgs</td>\n",
       "      <td>5</td>\n",
       "      <td>4</td>\n",
       "      <td>4</td>\n",
       "      <td>10</td>\n",
       "      <td>5</td>\n",
       "      <td>4</td>\n",
       "      <td>5</td>\n",
       "      <td>2</td>\n",
       "      <td>0</td>\n",
       "      <td>0</td>\n",
       "      <td>0</td>\n",
       "      <td>0</td>\n",
       "      <td>1.0</td>\n",
       "      <td>0.0</td>\n",
       "    </tr>\n",
       "    <tr>\n",
       "      <th>1</th>\n",
       "      <td>5nodes4msgs</td>\n",
       "      <td>5</td>\n",
       "      <td>4</td>\n",
       "      <td>4</td>\n",
       "      <td>10</td>\n",
       "      <td>4</td>\n",
       "      <td>3</td>\n",
       "      <td>0</td>\n",
       "      <td>4</td>\n",
       "      <td>0</td>\n",
       "      <td>0</td>\n",
       "      <td>0</td>\n",
       "      <td>2</td>\n",
       "      <td>NaN</td>\n",
       "      <td>NaN</td>\n",
       "    </tr>\n",
       "  </tbody>\n",
       "</table>\n",
       "</div>"
      ],
      "text/plain": [
       "  Nome_Config_Arquivo  Numero_de_Nos_Config  Numero_de_Mensagens_Config  \\\n",
       "0         5nodes4msgs                     5                           4   \n",
       "1         5nodes4msgs                     5                           4   \n",
       "\n",
       "   Numero_de_Caminhos_Completos  Tamanho_do_Slotframe  \\\n",
       "0                             4                    10   \n",
       "1                             4                    10   \n",
       "\n",
       "   Numero_de_Transmissoes_Totais  Numero_de_Canais_Usados  NC_Coder_Node_ID  \\\n",
       "0                              5                        4                 5   \n",
       "1                              4                        3                 0   \n",
       "\n",
       "   Mensagens_Iniciadas  Mensagens_Nao_Enviadas_Sem_Rota  \\\n",
       "0                    2                                0   \n",
       "1                    4                                0   \n",
       "\n",
       "   Mensagens_Descartadas_Hop_Limit  Mensagens_Descartadas_Sem_Prox_Caminho  \\\n",
       "0                                0                                       0   \n",
       "1                                0                                       0   \n",
       "\n",
       "   Total_Retransmissoes_Logicas  Total_Mensagens_NC_Codificadas_Enviadas  \\\n",
       "0                             0                                      1.0   \n",
       "1                             2                                      NaN   \n",
       "\n",
       "   Mensagens_Descartadas_Nao_Destino_NC_Pretendido  \n",
       "0                                              0.0  \n",
       "1                                              NaN  "
      ]
     },
     "execution_count": 2,
     "metadata": {},
     "output_type": "execute_result"
    }
   ],
   "source": [
    "df = pd.read_csv('./logs/simulation_results.csv')\n",
    "df"
   ]
  }
 ],
 "metadata": {
  "kernelspec": {
   "display_name": "Python 3",
   "language": "python",
   "name": "python3"
  },
  "language_info": {
   "codemirror_mode": {
    "name": "ipython",
    "version": 3
   },
   "file_extension": ".py",
   "mimetype": "text/x-python",
   "name": "python",
   "nbconvert_exporter": "python",
   "pygments_lexer": "ipython3",
   "version": "3.10.12"
  }
 },
 "nbformat": 4,
 "nbformat_minor": 2
}
